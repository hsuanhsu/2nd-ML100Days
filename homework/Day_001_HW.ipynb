{
 "cells": [
  {
   "cell_type": "markdown",
   "metadata": {},
   "source": [
    "# 作業1:\n",
    "請上 Kaggle, 在 Competitions 或 Dataset 中找一組競賽或資料並寫下：\n",
    "\n",
    "### 1. 你選的這組資料為何重要\n",
    "Kaggle: [The Movies Dataset - Metadata on over 45,000 movies. 26 million ratings from over 270,000 users.](https://www.kaggle.com/rounakbanik/the-movies-dataset)\n",
    "\n",
    "* 喜歡看電影\n",
    "* 對此資料有興趣，且含各種數據能進行分析\n",
    "\n",
    "### 2. 資料從何而來 (tips: 譬如提供者是誰、以什麼方式蒐集)\n",
    "This dataset is an ensemble of data collected from TMDB and GroupLens.\n",
    "\n",
    "### 3. 蒐集而來的資料型態為何\n",
    "結構化資料\n",
    "\n",
    "movies_metadata.csv\n",
    "\n",
    "| 特徵                                 | 型態  |\n",
    "| --------------------- | ---- |\n",
    "| adult                                 | Boolean    |\n",
    "| belongs_to_collection          | String       |\n",
    "| budget                              | String       |\n",
    "| genres                              | String       |\n",
    "| homepage                         | String       |\n",
    "| id                                     | Numeric    |\n",
    "| imdb_id                             | String       |\n",
    "| original_language               | String       | \n",
    "| original_title                      | String       |\n",
    "| overview                           | String       |\n",
    "| popularity                         | Numeric    |\n",
    "| poster_path                       | String       |\n",
    "| production_companies            | String       |\n",
    "| production_countries            | String       |\n",
    "| release_date                      | Data       |\n",
    "| revenue                             | Numeric    |\n",
    "| runtime                               | Numeric    |\n",
    "| spoken_languages                  | String       |\n",
    "| status                        | String       |\n",
    "| tagline                        | String       |\n",
    "| title                            | String       |\n",
    "| video                   | Boolean    |\n",
    "| vote_average                    | Numeric    |\n",
    "| vote_count                    | Numeric    |\n",
    "\n",
    "### 4. 這組資料想解決的問題如何評估\n",
    "\n",
    "透過資料分析的技術做評估\n",
    "\n",
    "# 作業2：\n",
    "\n",
    "想像你經營一個自由載客車隊，你希望能透過數據分析以提升業績，請你思考並描述你如何規劃整體的分析/解決方案：\n",
    "\n",
    "### 1. 核心問題為何 (tips：如何定義 「提升業績 & 你的假設」)\n",
    "如何提升業績，載更多客人\n",
    "* 客流量大的地區，容易載客，也能減少等待客人的時間，且單趟能載到的客人可能也比較多。\n",
    "* 平日或假日，何時何地為載客尖峰時段。\n",
    "* 觀察當地節慶或活動時期的載客需求是否增加。\n",
    "* 乘客乘坐的舒適度，或司機性別、服務態度等因素是否影響客人搭乘意願。\n",
    "\n",
    "### 2. 資料從何而來 (tips：哪些資料可能會對你想問的問題產生影響 & 資料如何蒐集)\n",
    "載客熱門時段、熱門地區、是否有特殊活動......\n",
    "資料搜集：全車隊的gps、行車紀錄器影像、問卷調查\n",
    "\n",
    "### 3. 蒐集而來的資料型態為何\n",
    "結構化資料，csv格式\n",
    "\n",
    "### 4. 你要回答的問題，其如何評估 (tips：你的假設如何驗證)\n",
    "* 將蒐集到的資料透過資料分析的技術做評估\n",
    "* 評估司機的顧客滿意度\n",
    "\n",
    "# 作業3：\n",
    "\n",
    "#### 請寫一個函式用來計算 Mean Square Error\n",
    "$ MSE = \\frac{1}{n}\\sum_{i=1}^{n}{(Y_i - \\hat{Y}_i)^2} $\n",
    "\n",
    "### Hint: [如何取平方](https://googoodesign.gitbooks.io/-ezpython/unit-1.html)"
   ]
  },
  {
   "cell_type": "code",
   "execution_count": 1,
   "metadata": {},
   "outputs": [],
   "source": [
    "import numpy as np\n",
    "import matplotlib.pyplot as plt"
   ]
  },
  {
   "cell_type": "code",
   "execution_count": 2,
   "metadata": {},
   "outputs": [],
   "source": [
    "def mean_squared_error(y, y_hat):\n",
    "    mse = sum((y-y_hat)**2) / len(y)\n",
    "    return mse\n",
    "\n",
    "def mean_absolute_error(y, y_hat):\n",
    "    mae = sum(abs(y-y_hat)) / len(y)\n",
    "    return mae"
   ]
  },
  {
   "cell_type": "code",
   "execution_count": 3,
   "metadata": {},
   "outputs": [
    {
     "data": {
      "image/png": "[encoded data removed]",
      "text/plain": [
       "<Figure size 432x288 with 1 Axes>"
      ]
     },
     "metadata": {
      "needs_background": "light"
     },
     "output_type": "display_data"
    }
   ],
   "source": [
    "w = 3\n",
    "b = 0.5\n",
    "\n",
    "x_lin = np.linspace(0, 100, 101)\n",
    "\n",
    "y = (x_lin + np.random.randn(101) * 5) * w + b\n",
    "\n",
    "plt.plot(x_lin, y, 'b.', label = 'data points')\n",
    "plt.title(\"Assume we have data points\")\n",
    "plt.legend(loc = 2)\n",
    "plt.show()"
   ]
  },
  {
   "cell_type": "code",
   "execution_count": 4,
   "metadata": {},
   "outputs": [
    {
     "data": {
      "image/png": "[encoded data removed]",
      "text/plain": [
       "<Figure size 432x288 with 1 Axes>"
      ]
     },
     "metadata": {
      "needs_background": "light"
     },
     "output_type": "display_data"
    }
   ],
   "source": [
    "y_hat = x_lin * w + b\n",
    "plt.plot(x_lin, y, 'b.', label = 'data')\n",
    "plt.plot(x_lin, y_hat, 'r-', label = 'prediction')\n",
    "plt.title(\"Assume we have data points (And the prediction)\")\n",
    "plt.legend(loc = 2)\n",
    "plt.show()"
   ]
  },
  {
   "cell_type": "code",
   "execution_count": 6,
   "metadata": {},
   "outputs": [
    {
     "name": "stdout",
     "output_type": "stream",
     "text": [
      "The Mean squared error is 244.691\n",
      "The Mean absolute error is 12.443\n"
     ]
    }
   ],
   "source": [
    "# 執行 Function, 確認有沒有正常執行\n",
    "MSE = mean_squared_error(y, y_hat)\n",
    "MAE = mean_absolute_error(y, y_hat)\n",
    "print(\"The Mean squared error is %.3f\" % (MSE))\n",
    "print(\"The Mean absolute error is %.3f\" % (MAE))"
   ]
  },
  {
   "cell_type": "code",
   "execution_count": null,
   "metadata": {},
   "outputs": [],
   "source": []
  }
 ],
 "metadata": {
  "kernelspec": {
   "display_name": "Python 3",
   "language": "python",
   "name": "python3"
  },
  "language_info": {
   "codemirror_mode": {
    "name": "ipython",
    "version": 3
   },
   "file_extension": ".py",
   "mimetype": "text/x-python",
   "name": "python",
   "nbconvert_exporter": "python",
   "pygments_lexer": "ipython3",
   "version": "3.7.1"
  }
 },
 "nbformat": 4,
 "nbformat_minor": 2
}
