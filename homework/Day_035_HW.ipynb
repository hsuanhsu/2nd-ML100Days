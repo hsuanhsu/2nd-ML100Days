{
 "cells": [
  {
   "cell_type": "markdown",
   "metadata": {},
   "source": [
    "## 練習時間\n",
    "相信大家對回歸問題及分類問題都有初步的了解。今天的作業希望大家搜尋有關 multi-label 的案例問題。下圖是電影 \"奇異博士\" 的分類。可以看到同時有 \"Action\", \"Adventure\", \"Fantasy\" 的類別存在，代表這是個多標籤的問題。 "
   ]
  },
  {
   "cell_type": "markdown",
   "metadata": {},
   "source": [
    "![image](https://cdn-images-1.medium.com/max/1000/1*r0gYXMSQf5VhdMyl2bRDyg.png)"
   ]
  },
  {
   "cell_type": "markdown",
   "metadata": {},
   "source": [
    "## 請搜尋目標為多標籤問題 (Multi-label) 的機器學習案例，了解其資料來源、目標以及評估指標為何\n",
    "## Hint: 服飾"
   ]
  },
  {
   "cell_type": "markdown",
   "metadata": {},
   "source": [
    "### 案例：\n",
    "\n",
    "1. 音訊分類\n",
    "\n",
    "歌曲會被分類為不同的流派。他們也被分類為，如“放鬆的平靜”，或“悲傷的孤獨”等等情感或情緒的基礎。\n",
    "2. 影象分類\n",
    "\n",
    "使用影象的多標籤分類也有廣泛的應用。影象可以被標記為不同的物件、人或概念。\n",
    "3. 生物資訊學\n",
    "\n",
    "多標籤分類在生物資訊學領域有很多用途，例如，在酵母資料集中的基因分類。它還被用來使用幾個未標記的蛋白質來預測蛋白質的多重功能。\n",
    "4. 文字分類\n",
    "\n",
    "谷歌新聞所做的是，將每條新聞都標記為一個或多個類別，這樣它就會顯示在不同的類別之下。\n",
    "例如同樣的新聞出現在“Technology”,“Latest” 等類別中，因為它已經被分類為不同的標籤。從而使其成為一個多標籤分類問題。\n",
    "\n",
    "#### 參考來源：https://codertw.com/%E7%A8%8B%E5%BC%8F%E8%AA%9E%E8%A8%80/404276/#outline__7_5"
   ]
  },
  {
   "cell_type": "code",
   "execution_count": null,
   "metadata": {},
   "outputs": [],
   "source": []
  }
 ],
 "metadata": {
  "kernelspec": {
   "display_name": "Python 3",
   "language": "python",
   "name": "python3"
  },
  "language_info": {
   "codemirror_mode": {
    "name": "ipython",
    "version": 3
   },
   "file_extension": ".py",
   "mimetype": "text/x-python",
   "name": "python",
   "nbconvert_exporter": "python",
   "pygments_lexer": "ipython3",
   "version": "3.7.1"
  }
 },
 "nbformat": 4,
 "nbformat_minor": 2
}
